{
 "cells": [
  {
   "cell_type": "code",
   "execution_count": 1,
   "id": "d887b728-7242-4fc0-8bd1-1132f139eb5d",
   "metadata": {},
   "outputs": [],
   "source": [
    "import pandas as pd"
   ]
  },
  {
   "cell_type": "code",
   "execution_count": 2,
   "id": "524c931c-44e0-4168-b740-e0011f1c9bd3",
   "metadata": {},
   "outputs": [
    {
     "data": {
      "text/plain": [
       "(663, 5)"
      ]
     },
     "execution_count": 2,
     "metadata": {},
     "output_type": "execute_result"
    }
   ],
   "source": [
    "df = pd.read_csv('game_results.csv', decimal=',', encoding='utf-8')\n",
    "df.shape"
   ]
  },
  {
   "cell_type": "code",
   "execution_count": 3,
   "id": "dcdcf67b-3610-46b7-b1c8-0a172448a59b",
   "metadata": {},
   "outputs": [
    {
     "data": {
      "text/html": [
       "<div>\n",
       "<style scoped>\n",
       "    .dataframe tbody tr th:only-of-type {\n",
       "        vertical-align: middle;\n",
       "    }\n",
       "\n",
       "    .dataframe tbody tr th {\n",
       "        vertical-align: top;\n",
       "    }\n",
       "\n",
       "    .dataframe thead th {\n",
       "        text-align: right;\n",
       "    }\n",
       "</style>\n",
       "<table border=\"1\" class=\"dataframe\">\n",
       "  <thead>\n",
       "    <tr style=\"text-align: right;\">\n",
       "      <th></th>\n",
       "      <th>Date</th>\n",
       "      <th>Match</th>\n",
       "      <th>Result</th>\n",
       "      <th>Score</th>\n",
       "      <th>Competition</th>\n",
       "    </tr>\n",
       "  </thead>\n",
       "  <tbody>\n",
       "    <tr>\n",
       "      <th>0</th>\n",
       "      <td>08 Sep 2018</td>\n",
       "      <td>Switzerland v Iceland</td>\n",
       "      <td>W</td>\n",
       "      <td>\\n6-0\\n</td>\n",
       "      <td>UEFA Nations League</td>\n",
       "    </tr>\n",
       "    <tr>\n",
       "      <th>1</th>\n",
       "      <td>11 Sep 2018</td>\n",
       "      <td>England v Switzerland</td>\n",
       "      <td>L</td>\n",
       "      <td>\\n1-0\\n</td>\n",
       "      <td>International Friendly</td>\n",
       "    </tr>\n",
       "    <tr>\n",
       "      <th>2</th>\n",
       "      <td>12 Oct 2018</td>\n",
       "      <td>Belgium v Switzerland</td>\n",
       "      <td>L</td>\n",
       "      <td>\\n2-1\\n</td>\n",
       "      <td>UEFA Nations League</td>\n",
       "    </tr>\n",
       "    <tr>\n",
       "      <th>3</th>\n",
       "      <td>15 Oct 2018</td>\n",
       "      <td>Iceland v Switzerland</td>\n",
       "      <td>W</td>\n",
       "      <td>\\n1-2\\n</td>\n",
       "      <td>UEFA Nations League</td>\n",
       "    </tr>\n",
       "    <tr>\n",
       "      <th>4</th>\n",
       "      <td>14 Nov 2018</td>\n",
       "      <td>Switzerland v Qatar</td>\n",
       "      <td>L</td>\n",
       "      <td>\\n0-1\\n</td>\n",
       "      <td>International Friendly</td>\n",
       "    </tr>\n",
       "    <tr>\n",
       "      <th>...</th>\n",
       "      <td>...</td>\n",
       "      <td>...</td>\n",
       "      <td>...</td>\n",
       "      <td>...</td>\n",
       "      <td>...</td>\n",
       "    </tr>\n",
       "    <tr>\n",
       "      <th>658</th>\n",
       "      <td>15 Nov 2020</td>\n",
       "      <td>Hungary v Serbia</td>\n",
       "      <td>D</td>\n",
       "      <td>\\n1-1\\n</td>\n",
       "      <td>UEFA Nations League</td>\n",
       "    </tr>\n",
       "    <tr>\n",
       "      <th>659</th>\n",
       "      <td>18 Nov 2020</td>\n",
       "      <td>Hungary v Turkey</td>\n",
       "      <td>W</td>\n",
       "      <td>\\n2-0\\n</td>\n",
       "      <td>UEFA Nations League</td>\n",
       "    </tr>\n",
       "    <tr>\n",
       "      <th>660</th>\n",
       "      <td>25 Mar 2021</td>\n",
       "      <td>Hungary v Poland</td>\n",
       "      <td>D</td>\n",
       "      <td>\\n3-3\\n</td>\n",
       "      <td>FIFA World Cup</td>\n",
       "    </tr>\n",
       "    <tr>\n",
       "      <th>661</th>\n",
       "      <td>28 Mar 2021</td>\n",
       "      <td>San Marino v Hungary</td>\n",
       "      <td>W</td>\n",
       "      <td>\\n0-3\\n</td>\n",
       "      <td>FIFA World Cup</td>\n",
       "    </tr>\n",
       "    <tr>\n",
       "      <th>662</th>\n",
       "      <td>31 Mar 2021</td>\n",
       "      <td>Andorra v Hungary</td>\n",
       "      <td>W</td>\n",
       "      <td>\\n1-4\\n</td>\n",
       "      <td>FIFA World Cup</td>\n",
       "    </tr>\n",
       "  </tbody>\n",
       "</table>\n",
       "<p>663 rows × 5 columns</p>\n",
       "</div>"
      ],
      "text/plain": [
       "            Date                  Match Result    Score  \\\n",
       "0    08 Sep 2018  Switzerland v Iceland      W  \\n6-0\\n   \n",
       "1    11 Sep 2018  England v Switzerland      L  \\n1-0\\n   \n",
       "2    12 Oct 2018  Belgium v Switzerland      L  \\n2-1\\n   \n",
       "3    15 Oct 2018  Iceland v Switzerland      W  \\n1-2\\n   \n",
       "4    14 Nov 2018    Switzerland v Qatar      L  \\n0-1\\n   \n",
       "..           ...                    ...    ...      ...   \n",
       "658  15 Nov 2020       Hungary v Serbia      D  \\n1-1\\n   \n",
       "659  18 Nov 2020       Hungary v Turkey      W  \\n2-0\\n   \n",
       "660  25 Mar 2021       Hungary v Poland      D  \\n3-3\\n   \n",
       "661  28 Mar 2021   San Marino v Hungary      W  \\n0-3\\n   \n",
       "662  31 Mar 2021      Andorra v Hungary      W  \\n1-4\\n   \n",
       "\n",
       "                Competition  \n",
       "0       UEFA Nations League  \n",
       "1    International Friendly  \n",
       "2       UEFA Nations League  \n",
       "3       UEFA Nations League  \n",
       "4    International Friendly  \n",
       "..                      ...  \n",
       "658     UEFA Nations League  \n",
       "659     UEFA Nations League  \n",
       "660          FIFA World Cup  \n",
       "661          FIFA World Cup  \n",
       "662          FIFA World Cup  \n",
       "\n",
       "[663 rows x 5 columns]"
      ]
     },
     "execution_count": 3,
     "metadata": {},
     "output_type": "execute_result"
    }
   ],
   "source": [
    "df"
   ]
  },
  {
   "cell_type": "code",
   "execution_count": 4,
   "id": "35773acc-ffe9-41e1-91bf-92fc487e59c1",
   "metadata": {},
   "outputs": [
    {
     "data": {
      "text/plain": [
       "(625, 5)"
      ]
     },
     "execution_count": 4,
     "metadata": {},
     "output_type": "execute_result"
    }
   ],
   "source": [
    "df = df.drop_duplicates()\n",
    "df.shape"
   ]
  },
  {
   "cell_type": "code",
   "execution_count": 5,
   "id": "e198a5df-5c5c-4b4a-9cd3-4fcc877aac7b",
   "metadata": {},
   "outputs": [
    {
     "name": "stderr",
     "output_type": "stream",
     "text": [
      "<ipython-input-5-531819915cf3>:1: SettingWithCopyWarning: \n",
      "A value is trying to be set on a copy of a slice from a DataFrame.\n",
      "Try using .loc[row_indexer,col_indexer] = value instead\n",
      "\n",
      "See the caveats in the documentation: https://pandas.pydata.org/pandas-docs/stable/user_guide/indexing.html#returning-a-view-versus-a-copy\n",
      "  df['Score'] = df['Score'].str.strip()\n"
     ]
    }
   ],
   "source": [
    "df['Score'] = df['Score'].str.strip()"
   ]
  },
  {
   "cell_type": "code",
   "execution_count": 6,
   "id": "ab16e068-f0ba-4fb5-ab7c-f0ab8210d16d",
   "metadata": {},
   "outputs": [
    {
     "name": "stderr",
     "output_type": "stream",
     "text": [
      "<ipython-input-6-b267df5f087f>:1: SettingWithCopyWarning: \n",
      "A value is trying to be set on a copy of a slice from a DataFrame.\n",
      "Try using .loc[row_indexer,col_indexer] = value instead\n",
      "\n",
      "See the caveats in the documentation: https://pandas.pydata.org/pandas-docs/stable/user_guide/indexing.html#returning-a-view-versus-a-copy\n",
      "  df['Home_team'] = df['Match'].str.split(' v ').str[0]\n",
      "<ipython-input-6-b267df5f087f>:2: SettingWithCopyWarning: \n",
      "A value is trying to be set on a copy of a slice from a DataFrame.\n",
      "Try using .loc[row_indexer,col_indexer] = value instead\n",
      "\n",
      "See the caveats in the documentation: https://pandas.pydata.org/pandas-docs/stable/user_guide/indexing.html#returning-a-view-versus-a-copy\n",
      "  df['Away_team'] = df['Match'].str.split(' v ').str[1]\n"
     ]
    }
   ],
   "source": [
    "df['Home_team'] = df['Match'].str.split(' v ').str[0]\n",
    "df['Away_team'] = df['Match'].str.split(' v ').str[1]"
   ]
  },
  {
   "cell_type": "code",
   "execution_count": 7,
   "id": "c3e7a34b-1507-49ea-aff5-4ae404b85231",
   "metadata": {},
   "outputs": [
    {
     "name": "stderr",
     "output_type": "stream",
     "text": [
      "<ipython-input-7-6581d48889da>:1: SettingWithCopyWarning: \n",
      "A value is trying to be set on a copy of a slice from a DataFrame.\n",
      "Try using .loc[row_indexer,col_indexer] = value instead\n",
      "\n",
      "See the caveats in the documentation: https://pandas.pydata.org/pandas-docs/stable/user_guide/indexing.html#returning-a-view-versus-a-copy\n",
      "  df['Home_goals'] = df['Score'].str.split('-').str[0]\n",
      "<ipython-input-7-6581d48889da>:2: SettingWithCopyWarning: \n",
      "A value is trying to be set on a copy of a slice from a DataFrame.\n",
      "Try using .loc[row_indexer,col_indexer] = value instead\n",
      "\n",
      "See the caveats in the documentation: https://pandas.pydata.org/pandas-docs/stable/user_guide/indexing.html#returning-a-view-versus-a-copy\n",
      "  df['Away_goals'] = df['Score'].str.split('-').str[1]\n"
     ]
    }
   ],
   "source": [
    "df['Home_goals'] = df['Score'].str.split('-').str[0]\n",
    "df['Away_goals'] = df['Score'].str.split('-').str[1]"
   ]
  },
  {
   "cell_type": "code",
   "execution_count": 8,
   "id": "73a7c174-e39d-4be6-a6ed-b151b614d0ac",
   "metadata": {},
   "outputs": [],
   "source": [
    "#df = df.drop('Date', axis = 1)\n",
    "df = df.drop('Result', axis = 1)\n",
    "df = df.drop('Match', axis = 1)\n",
    "#df = df.drop('Score', axis = 1)\n",
    "df = df.drop('Competition', axis = 1)\n",
    "df.dropna(inplace=True)"
   ]
  },
  {
   "cell_type": "code",
   "execution_count": 9,
   "id": "b8978b31-a958-48aa-8e98-fa4d4ec68173",
   "metadata": {},
   "outputs": [
    {
     "data": {
      "text/html": [
       "<div>\n",
       "<style scoped>\n",
       "    .dataframe tbody tr th:only-of-type {\n",
       "        vertical-align: middle;\n",
       "    }\n",
       "\n",
       "    .dataframe tbody tr th {\n",
       "        vertical-align: top;\n",
       "    }\n",
       "\n",
       "    .dataframe thead th {\n",
       "        text-align: right;\n",
       "    }\n",
       "</style>\n",
       "<table border=\"1\" class=\"dataframe\">\n",
       "  <thead>\n",
       "    <tr style=\"text-align: right;\">\n",
       "      <th></th>\n",
       "      <th>Date</th>\n",
       "      <th>Score</th>\n",
       "      <th>Home_team</th>\n",
       "      <th>Away_team</th>\n",
       "      <th>Home_goals</th>\n",
       "      <th>Away_goals</th>\n",
       "    </tr>\n",
       "  </thead>\n",
       "  <tbody>\n",
       "    <tr>\n",
       "      <th>0</th>\n",
       "      <td>08 Sep 2018</td>\n",
       "      <td>6-0</td>\n",
       "      <td>Switzerland</td>\n",
       "      <td>Iceland</td>\n",
       "      <td>6</td>\n",
       "      <td>0</td>\n",
       "    </tr>\n",
       "    <tr>\n",
       "      <th>1</th>\n",
       "      <td>11 Sep 2018</td>\n",
       "      <td>1-0</td>\n",
       "      <td>England</td>\n",
       "      <td>Switzerland</td>\n",
       "      <td>1</td>\n",
       "      <td>0</td>\n",
       "    </tr>\n",
       "    <tr>\n",
       "      <th>2</th>\n",
       "      <td>12 Oct 2018</td>\n",
       "      <td>2-1</td>\n",
       "      <td>Belgium</td>\n",
       "      <td>Switzerland</td>\n",
       "      <td>2</td>\n",
       "      <td>1</td>\n",
       "    </tr>\n",
       "    <tr>\n",
       "      <th>3</th>\n",
       "      <td>15 Oct 2018</td>\n",
       "      <td>1-2</td>\n",
       "      <td>Iceland</td>\n",
       "      <td>Switzerland</td>\n",
       "      <td>1</td>\n",
       "      <td>2</td>\n",
       "    </tr>\n",
       "    <tr>\n",
       "      <th>4</th>\n",
       "      <td>14 Nov 2018</td>\n",
       "      <td>0-1</td>\n",
       "      <td>Switzerland</td>\n",
       "      <td>Qatar</td>\n",
       "      <td>0</td>\n",
       "      <td>1</td>\n",
       "    </tr>\n",
       "    <tr>\n",
       "      <th>...</th>\n",
       "      <td>...</td>\n",
       "      <td>...</td>\n",
       "      <td>...</td>\n",
       "      <td>...</td>\n",
       "      <td>...</td>\n",
       "      <td>...</td>\n",
       "    </tr>\n",
       "    <tr>\n",
       "      <th>657</th>\n",
       "      <td>12 Nov 2020</td>\n",
       "      <td>2-1</td>\n",
       "      <td>Hungary</td>\n",
       "      <td>Iceland</td>\n",
       "      <td>2</td>\n",
       "      <td>1</td>\n",
       "    </tr>\n",
       "    <tr>\n",
       "      <th>658</th>\n",
       "      <td>15 Nov 2020</td>\n",
       "      <td>1-1</td>\n",
       "      <td>Hungary</td>\n",
       "      <td>Serbia</td>\n",
       "      <td>1</td>\n",
       "      <td>1</td>\n",
       "    </tr>\n",
       "    <tr>\n",
       "      <th>659</th>\n",
       "      <td>18 Nov 2020</td>\n",
       "      <td>2-0</td>\n",
       "      <td>Hungary</td>\n",
       "      <td>Turkey</td>\n",
       "      <td>2</td>\n",
       "      <td>0</td>\n",
       "    </tr>\n",
       "    <tr>\n",
       "      <th>661</th>\n",
       "      <td>28 Mar 2021</td>\n",
       "      <td>0-3</td>\n",
       "      <td>San Marino</td>\n",
       "      <td>Hungary</td>\n",
       "      <td>0</td>\n",
       "      <td>3</td>\n",
       "    </tr>\n",
       "    <tr>\n",
       "      <th>662</th>\n",
       "      <td>31 Mar 2021</td>\n",
       "      <td>1-4</td>\n",
       "      <td>Andorra</td>\n",
       "      <td>Hungary</td>\n",
       "      <td>1</td>\n",
       "      <td>4</td>\n",
       "    </tr>\n",
       "  </tbody>\n",
       "</table>\n",
       "<p>625 rows × 6 columns</p>\n",
       "</div>"
      ],
      "text/plain": [
       "            Date Score    Home_team    Away_team Home_goals Away_goals\n",
       "0    08 Sep 2018   6-0  Switzerland      Iceland          6          0\n",
       "1    11 Sep 2018   1-0      England  Switzerland          1          0\n",
       "2    12 Oct 2018   2-1      Belgium  Switzerland          2          1\n",
       "3    15 Oct 2018   1-2      Iceland  Switzerland          1          2\n",
       "4    14 Nov 2018   0-1  Switzerland        Qatar          0          1\n",
       "..           ...   ...          ...          ...        ...        ...\n",
       "657  12 Nov 2020   2-1      Hungary      Iceland          2          1\n",
       "658  15 Nov 2020   1-1      Hungary       Serbia          1          1\n",
       "659  18 Nov 2020   2-0      Hungary       Turkey          2          0\n",
       "661  28 Mar 2021   0-3   San Marino      Hungary          0          3\n",
       "662  31 Mar 2021   1-4      Andorra      Hungary          1          4\n",
       "\n",
       "[625 rows x 6 columns]"
      ]
     },
     "execution_count": 9,
     "metadata": {},
     "output_type": "execute_result"
    }
   ],
   "source": [
    "df"
   ]
  },
  {
   "cell_type": "code",
   "execution_count": 10,
   "id": "0fbbb288-e56d-4dbb-a3fc-489d18bf6507",
   "metadata": {},
   "outputs": [],
   "source": [
    "df.to_csv('final_game_results.csv', index=False, encoding='utf-8-sig')"
   ]
  }
 ],
 "metadata": {
  "kernelspec": {
   "display_name": "Python 3",
   "language": "python",
   "name": "python3"
  },
  "language_info": {
   "codemirror_mode": {
    "name": "ipython",
    "version": 3
   },
   "file_extension": ".py",
   "mimetype": "text/x-python",
   "name": "python",
   "nbconvert_exporter": "python",
   "pygments_lexer": "ipython3",
   "version": "3.9.4"
  }
 },
 "nbformat": 4,
 "nbformat_minor": 5
}
