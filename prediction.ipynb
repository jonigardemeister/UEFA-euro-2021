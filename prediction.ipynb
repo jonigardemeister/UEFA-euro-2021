{
 "cells": [
  {
   "cell_type": "code",
   "execution_count": 1,
   "id": "44730c34-8300-4717-9cef-71af3cc7cb5f",
   "metadata": {
    "tags": []
   },
   "outputs": [],
   "source": [
    "import pandas as pd\n",
    "import matplotlib.pyplot as plt\n",
    "import numpy as np\n",
    "import seaborn\n",
    "from scipy.stats import poisson,skellam"
   ]
  },
  {
   "cell_type": "code",
   "execution_count": 2,
   "id": "abf72c41-4470-4550-a871-19d1284945c9",
   "metadata": {},
   "outputs": [
    {
     "data": {
      "text/plain": [
       "(625, 6)"
      ]
     },
     "execution_count": 2,
     "metadata": {},
     "output_type": "execute_result"
    }
   ],
   "source": [
    "df = pd.read_csv('final_game_results.csv', decimal=',', encoding='utf-8')\n",
    "df.shape"
   ]
  },
  {
   "cell_type": "code",
   "execution_count": 3,
   "id": "d62d901d-c945-46cd-9203-efc6788d2fe1",
   "metadata": {},
   "outputs": [
    {
     "data": {
      "text/html": [
       "<div>\n",
       "<style scoped>\n",
       "    .dataframe tbody tr th:only-of-type {\n",
       "        vertical-align: middle;\n",
       "    }\n",
       "\n",
       "    .dataframe tbody tr th {\n",
       "        vertical-align: top;\n",
       "    }\n",
       "\n",
       "    .dataframe thead th {\n",
       "        text-align: right;\n",
       "    }\n",
       "</style>\n",
       "<table border=\"1\" class=\"dataframe\">\n",
       "  <thead>\n",
       "    <tr style=\"text-align: right;\">\n",
       "      <th></th>\n",
       "      <th>Date</th>\n",
       "      <th>Score</th>\n",
       "      <th>Home_team</th>\n",
       "      <th>Away_team</th>\n",
       "      <th>Home_goals</th>\n",
       "      <th>Away_goals</th>\n",
       "    </tr>\n",
       "  </thead>\n",
       "  <tbody>\n",
       "    <tr>\n",
       "      <th>0</th>\n",
       "      <td>08 Sep 2018</td>\n",
       "      <td>6-0</td>\n",
       "      <td>Switzerland</td>\n",
       "      <td>Iceland</td>\n",
       "      <td>6</td>\n",
       "      <td>0</td>\n",
       "    </tr>\n",
       "    <tr>\n",
       "      <th>1</th>\n",
       "      <td>11 Sep 2018</td>\n",
       "      <td>1-0</td>\n",
       "      <td>England</td>\n",
       "      <td>Switzerland</td>\n",
       "      <td>1</td>\n",
       "      <td>0</td>\n",
       "    </tr>\n",
       "    <tr>\n",
       "      <th>2</th>\n",
       "      <td>12 Oct 2018</td>\n",
       "      <td>2-1</td>\n",
       "      <td>Belgium</td>\n",
       "      <td>Switzerland</td>\n",
       "      <td>2</td>\n",
       "      <td>1</td>\n",
       "    </tr>\n",
       "    <tr>\n",
       "      <th>3</th>\n",
       "      <td>15 Oct 2018</td>\n",
       "      <td>1-2</td>\n",
       "      <td>Iceland</td>\n",
       "      <td>Switzerland</td>\n",
       "      <td>1</td>\n",
       "      <td>2</td>\n",
       "    </tr>\n",
       "    <tr>\n",
       "      <th>4</th>\n",
       "      <td>14 Nov 2018</td>\n",
       "      <td>0-1</td>\n",
       "      <td>Switzerland</td>\n",
       "      <td>Qatar</td>\n",
       "      <td>0</td>\n",
       "      <td>1</td>\n",
       "    </tr>\n",
       "    <tr>\n",
       "      <th>...</th>\n",
       "      <td>...</td>\n",
       "      <td>...</td>\n",
       "      <td>...</td>\n",
       "      <td>...</td>\n",
       "      <td>...</td>\n",
       "      <td>...</td>\n",
       "    </tr>\n",
       "    <tr>\n",
       "      <th>620</th>\n",
       "      <td>12 Nov 2020</td>\n",
       "      <td>2-1</td>\n",
       "      <td>Hungary</td>\n",
       "      <td>Iceland</td>\n",
       "      <td>2</td>\n",
       "      <td>1</td>\n",
       "    </tr>\n",
       "    <tr>\n",
       "      <th>621</th>\n",
       "      <td>15 Nov 2020</td>\n",
       "      <td>1-1</td>\n",
       "      <td>Hungary</td>\n",
       "      <td>Serbia</td>\n",
       "      <td>1</td>\n",
       "      <td>1</td>\n",
       "    </tr>\n",
       "    <tr>\n",
       "      <th>622</th>\n",
       "      <td>18 Nov 2020</td>\n",
       "      <td>2-0</td>\n",
       "      <td>Hungary</td>\n",
       "      <td>Turkey</td>\n",
       "      <td>2</td>\n",
       "      <td>0</td>\n",
       "    </tr>\n",
       "    <tr>\n",
       "      <th>623</th>\n",
       "      <td>28 Mar 2021</td>\n",
       "      <td>0-3</td>\n",
       "      <td>San Marino</td>\n",
       "      <td>Hungary</td>\n",
       "      <td>0</td>\n",
       "      <td>3</td>\n",
       "    </tr>\n",
       "    <tr>\n",
       "      <th>624</th>\n",
       "      <td>31 Mar 2021</td>\n",
       "      <td>1-4</td>\n",
       "      <td>Andorra</td>\n",
       "      <td>Hungary</td>\n",
       "      <td>1</td>\n",
       "      <td>4</td>\n",
       "    </tr>\n",
       "  </tbody>\n",
       "</table>\n",
       "<p>625 rows × 6 columns</p>\n",
       "</div>"
      ],
      "text/plain": [
       "            Date Score    Home_team    Away_team  Home_goals  Away_goals\n",
       "0    08 Sep 2018   6-0  Switzerland      Iceland           6           0\n",
       "1    11 Sep 2018   1-0      England  Switzerland           1           0\n",
       "2    12 Oct 2018   2-1      Belgium  Switzerland           2           1\n",
       "3    15 Oct 2018   1-2      Iceland  Switzerland           1           2\n",
       "4    14 Nov 2018   0-1  Switzerland        Qatar           0           1\n",
       "..           ...   ...          ...          ...         ...         ...\n",
       "620  12 Nov 2020   2-1      Hungary      Iceland           2           1\n",
       "621  15 Nov 2020   1-1      Hungary       Serbia           1           1\n",
       "622  18 Nov 2020   2-0      Hungary       Turkey           2           0\n",
       "623  28 Mar 2021   0-3   San Marino      Hungary           0           3\n",
       "624  31 Mar 2021   1-4      Andorra      Hungary           1           4\n",
       "\n",
       "[625 rows x 6 columns]"
      ]
     },
     "execution_count": 3,
     "metadata": {},
     "output_type": "execute_result"
    }
   ],
   "source": [
    "df"
   ]
  },
  {
   "cell_type": "code",
   "execution_count": 4,
   "id": "73e18077-1f04-4b56-8fcd-dd6ab54df112",
   "metadata": {},
   "outputs": [
    {
     "data": {
      "text/plain": [
       "Home_goals    1.8080\n",
       "Away_goals    1.2032\n",
       "dtype: float64"
      ]
     },
     "execution_count": 4,
     "metadata": {},
     "output_type": "execute_result"
    }
   ],
   "source": [
    "df.mean()"
   ]
  },
  {
   "cell_type": "code",
   "execution_count": 5,
   "id": "daec3e81-ab32-4eb3-93d7-722ebd5475eb",
   "metadata": {},
   "outputs": [
    {
     "data": {
      "text/plain": [
       "0.23074803045586798"
      ]
     },
     "execution_count": 5,
     "metadata": {},
     "output_type": "execute_result"
    }
   ],
   "source": [
    "skellam.pmf(0.0,  df.mean()[0],  df.mean()[1])"
   ]
  },
  {
   "cell_type": "code",
   "execution_count": 6,
   "id": "b9361a91-f060-49c4-b6b8-92a7f1c66692",
   "metadata": {},
   "outputs": [
    {
     "data": {
      "text/plain": [
       "0.22804210068609898"
      ]
     },
     "execution_count": 6,
     "metadata": {},
     "output_type": "execute_result"
    }
   ],
   "source": [
    "skellam.pmf(1,  df.mean()[0],  df.mean()[1])"
   ]
  },
  {
   "cell_type": "code",
   "execution_count": 7,
   "id": "5cf4d27a-c4cc-4232-8685-bda14251e8a7",
   "metadata": {},
   "outputs": [],
   "source": [
    "import statsmodels.api as sm\n",
    "import statsmodels.formula.api as smf"
   ]
  },
  {
   "cell_type": "code",
   "execution_count": 92,
   "id": "d2543380-04b2-4a37-be2c-c28b425d64bc",
   "metadata": {},
   "outputs": [],
   "source": [
    "goal_model_data = pd.concat([df[['Home_team','Away_team','Home_goals']].assign(home=1).rename(\n",
    "            columns={'Home_team':'team', 'Away_team':'opponent','Home_goals':'goals'}),\n",
    "           df[['Away_team','Home_team','Away_goals']].assign(home=0).rename(\n",
    "            columns={'Away_team':'team', 'Home_team':'opponent','Away_goals':'goals'})])"
   ]
  },
  {
   "cell_type": "code",
   "execution_count": null,
   "id": "1a0e15fe-10d0-4434-a311-72417ab20f4a",
   "metadata": {},
   "outputs": [],
   "source": []
  },
  {
   "cell_type": "code",
   "execution_count": 93,
   "id": "18a2c4d7-7d6c-4550-a996-4ae6730aece9",
   "metadata": {},
   "outputs": [
    {
     "data": {
      "text/html": [
       "<div>\n",
       "<style scoped>\n",
       "    .dataframe tbody tr th:only-of-type {\n",
       "        vertical-align: middle;\n",
       "    }\n",
       "\n",
       "    .dataframe tbody tr th {\n",
       "        vertical-align: top;\n",
       "    }\n",
       "\n",
       "    .dataframe thead th {\n",
       "        text-align: right;\n",
       "    }\n",
       "</style>\n",
       "<table border=\"1\" class=\"dataframe\">\n",
       "  <thead>\n",
       "    <tr style=\"text-align: right;\">\n",
       "      <th></th>\n",
       "      <th>team</th>\n",
       "      <th>opponent</th>\n",
       "      <th>goals</th>\n",
       "      <th>home</th>\n",
       "    </tr>\n",
       "  </thead>\n",
       "  <tbody>\n",
       "    <tr>\n",
       "      <th>0</th>\n",
       "      <td>Switzerland</td>\n",
       "      <td>Iceland</td>\n",
       "      <td>6</td>\n",
       "      <td>1</td>\n",
       "    </tr>\n",
       "    <tr>\n",
       "      <th>1</th>\n",
       "      <td>England</td>\n",
       "      <td>Switzerland</td>\n",
       "      <td>1</td>\n",
       "      <td>1</td>\n",
       "    </tr>\n",
       "    <tr>\n",
       "      <th>2</th>\n",
       "      <td>Belgium</td>\n",
       "      <td>Switzerland</td>\n",
       "      <td>2</td>\n",
       "      <td>1</td>\n",
       "    </tr>\n",
       "    <tr>\n",
       "      <th>3</th>\n",
       "      <td>Iceland</td>\n",
       "      <td>Switzerland</td>\n",
       "      <td>1</td>\n",
       "      <td>1</td>\n",
       "    </tr>\n",
       "    <tr>\n",
       "      <th>4</th>\n",
       "      <td>Switzerland</td>\n",
       "      <td>Qatar</td>\n",
       "      <td>0</td>\n",
       "      <td>1</td>\n",
       "    </tr>\n",
       "    <tr>\n",
       "      <th>...</th>\n",
       "      <td>...</td>\n",
       "      <td>...</td>\n",
       "      <td>...</td>\n",
       "      <td>...</td>\n",
       "    </tr>\n",
       "    <tr>\n",
       "      <th>620</th>\n",
       "      <td>Iceland</td>\n",
       "      <td>Hungary</td>\n",
       "      <td>1</td>\n",
       "      <td>0</td>\n",
       "    </tr>\n",
       "    <tr>\n",
       "      <th>621</th>\n",
       "      <td>Serbia</td>\n",
       "      <td>Hungary</td>\n",
       "      <td>1</td>\n",
       "      <td>0</td>\n",
       "    </tr>\n",
       "    <tr>\n",
       "      <th>622</th>\n",
       "      <td>Turkey</td>\n",
       "      <td>Hungary</td>\n",
       "      <td>0</td>\n",
       "      <td>0</td>\n",
       "    </tr>\n",
       "    <tr>\n",
       "      <th>623</th>\n",
       "      <td>Hungary</td>\n",
       "      <td>San Marino</td>\n",
       "      <td>3</td>\n",
       "      <td>0</td>\n",
       "    </tr>\n",
       "    <tr>\n",
       "      <th>624</th>\n",
       "      <td>Hungary</td>\n",
       "      <td>Andorra</td>\n",
       "      <td>4</td>\n",
       "      <td>0</td>\n",
       "    </tr>\n",
       "  </tbody>\n",
       "</table>\n",
       "<p>1250 rows × 4 columns</p>\n",
       "</div>"
      ],
      "text/plain": [
       "            team     opponent  goals  home\n",
       "0    Switzerland      Iceland      6     1\n",
       "1        England  Switzerland      1     1\n",
       "2        Belgium  Switzerland      2     1\n",
       "3        Iceland  Switzerland      1     1\n",
       "4    Switzerland        Qatar      0     1\n",
       "..           ...          ...    ...   ...\n",
       "620      Iceland      Hungary      1     0\n",
       "621       Serbia      Hungary      1     0\n",
       "622       Turkey      Hungary      0     0\n",
       "623      Hungary   San Marino      3     0\n",
       "624      Hungary      Andorra      4     0\n",
       "\n",
       "[1250 rows x 4 columns]"
      ]
     },
     "execution_count": 93,
     "metadata": {},
     "output_type": "execute_result"
    }
   ],
   "source": [
    "goal_model_data"
   ]
  },
  {
   "cell_type": "code",
   "execution_count": 94,
   "id": "727a1cc2-af41-46f5-8990-f76caadcc555",
   "metadata": {},
   "outputs": [],
   "source": [
    "#poisson_model = smf.glm(formula=\"goals ~ home + team + opponent\", data=goal_model_data, family=sm.families.Poisson()).fit()\n",
    "#poisson_model.summary()"
   ]
  },
  {
   "cell_type": "code",
   "execution_count": null,
   "id": "feaec399-0aba-4ffd-8587-b0230532cdf2",
   "metadata": {},
   "outputs": [],
   "source": []
  },
  {
   "cell_type": "code",
   "execution_count": 95,
   "id": "013b3571-4158-4d17-9b01-e69faa8446f1",
   "metadata": {},
   "outputs": [],
   "source": [
    "poisson_model = smf.glm(formula=\"goals ~ team + opponent\", data=goal_model_data, family=sm.families.Poisson()).fit()\n",
    "#poisson_model.summary()"
   ]
  },
  {
   "cell_type": "code",
   "execution_count": 96,
   "id": "fc7861f1-86b8-4ab7-81ab-83dfdeea8154",
   "metadata": {},
   "outputs": [],
   "source": [
    "def simulate_match(foot_model, homeTeam, awayTeam, max_goals=10):\n",
    "    home_goals_avg = foot_model.predict(pd.DataFrame(data={'team': homeTeam, \n",
    "                                                            'opponent': awayTeam},\n",
    "                                                      index=[1])).values[0]\n",
    "    away_goals_avg = foot_model.predict(pd.DataFrame(data={'team': awayTeam, \n",
    "                                                            'opponent': homeTeam},\n",
    "                                                      index=[1])).values[0]\n",
    "    team_pred = [[poisson.pmf(i, team_avg) for i in range(0, max_goals+1)] for team_avg in [home_goals_avg, away_goals_avg]]\n",
    "    return(np.outer(np.array(team_pred[0]), np.array(team_pred[1])))"
   ]
  },
  {
   "cell_type": "code",
   "execution_count": 97,
   "id": "5ef95b95-660a-41a8-b830-48c1dff47c49",
   "metadata": {},
   "outputs": [
    {
     "data": {
      "text/plain": [
       "array([[0.01938464, 0.05386133, 0.07482837, 0.06930496, 0.04814194],\n",
       "       [0.02257763, 0.06273323, 0.08715392, 0.0807207 , 0.05607176],\n",
       "       [0.01314828, 0.03653324, 0.05075484, 0.0470084 , 0.03265388],\n",
       "       [0.00510468, 0.01418364, 0.01970502, 0.0182505 , 0.01267751],\n",
       "       [0.00148638, 0.00412998, 0.00573769, 0.00531417, 0.00369143]])"
      ]
     },
     "execution_count": 97,
     "metadata": {},
     "output_type": "execute_result"
    }
   ],
   "source": [
    "simulate_match(poisson_model, 'Germany', 'Belgium', max_goals=4)"
   ]
  },
  {
   "cell_type": "code",
   "execution_count": 98,
   "id": "ee9139f8-ca48-4e30-a138-f5bd916fe15e",
   "metadata": {},
   "outputs": [],
   "source": [
    "sun = simulate_match(poisson_model, 'Germany', 'Belgium', max_goals=100)"
   ]
  },
  {
   "cell_type": "code",
   "execution_count": 99,
   "id": "5143c7fd-e8c4-41a7-bcfb-9fb1ed6db578",
   "metadata": {},
   "outputs": [
    {
     "data": {
      "text/plain": [
       "0.13388235429004552"
      ]
     },
     "execution_count": 99,
     "metadata": {},
     "output_type": "execute_result"
    }
   ],
   "source": [
    "np.sum(np.tril(sun, -1))"
   ]
  },
  {
   "cell_type": "code",
   "execution_count": 100,
   "id": "f551b934-6a42-4249-9834-75062ab80f7f",
   "metadata": {},
   "outputs": [
    {
     "data": {
      "text/plain": [
       "0.15533844508936834"
      ]
     },
     "execution_count": 100,
     "metadata": {},
     "output_type": "execute_result"
    }
   ],
   "source": [
    "np.sum(np.diag(sun))"
   ]
  },
  {
   "cell_type": "code",
   "execution_count": 101,
   "id": "9e709441-4d97-4ecb-9b67-c9c4ea384a97",
   "metadata": {},
   "outputs": [
    {
     "data": {
      "text/plain": [
       "0.4922127039078146"
      ]
     },
     "execution_count": 101,
     "metadata": {},
     "output_type": "execute_result"
    }
   ],
   "source": [
    "np.sum(np.tril(sun, 1))"
   ]
  },
  {
   "cell_type": "code",
   "execution_count": 120,
   "id": "f4455761-7b10-48a6-b5d8-cbd12ccb5282",
   "metadata": {},
   "outputs": [],
   "source": [
    "def predict_game_result(home_team, away_team, more=False):\n",
    "    home_goals = poisson_model.predict(pd.DataFrame(data={'team': home_team, 'opponent': away_team,\n",
    "                                       'home':1},index=[1]))\n",
    "    away_goals = poisson_model.predict(pd.DataFrame(data={'team': away_team, 'opponent': home_team,\n",
    "                                       'home':0},index=[1]))\n",
    "    \n",
    "    int_home_goals = int(round(home_goals))\n",
    "    int_away_goals = int(round(away_goals))\n",
    "    \n",
    "    print(str(home_team) + \" \" + str(int_home_goals) + \" - \" + str(int_away_goals) + \" \" + str(away_team))\n",
    "    \n",
    "    if(more):\n",
    "        print(str(home_team) + \": \" + str(home_goals))\n",
    "        print(str(away_team) + \": \" + str(away_goals))\n",
    "        sun = simulate_match(poisson_model, home_team, away_team, max_goals=10)\n",
    "        print(home_team + \" wins probability of:\" + str(np.sum(np.tril(sun, -1))))\n",
    "        print(\"Draw is probability of:\" + str(np.sum(np.diag(sun))))\n",
    "        print(away_team + \" wins probability of:\" + str(np.sum(np.tril(sun, 1))))"
   ]
  },
  {
   "cell_type": "markdown",
   "id": "6058454b-1c67-4c75-84d3-7a6c0b3aa192",
   "metadata": {},
   "source": [
    "EM-KISAT 2021 PREDICTIONS"
   ]
  },
  {
   "cell_type": "markdown",
   "id": "49081caa-d22a-4a74-9cf1-cdb33ee4f8dd",
   "metadata": {},
   "source": [
    "Group stage"
   ]
  },
  {
   "cell_type": "code",
   "execution_count": 19,
   "id": "5e813db9-2ca8-475f-992f-8ad2be7e2fd9",
   "metadata": {
    "tags": []
   },
   "outputs": [
    {
     "name": "stdout",
     "output_type": "stream",
     "text": [
      "Turkey 0 - 2 Italy\n"
     ]
    }
   ],
   "source": [
    "predict_game_result('Turkey', 'Italy')"
   ]
  },
  {
   "cell_type": "code",
   "execution_count": 20,
   "id": "8fffa020-429a-4ec4-9749-f4cb8dd0af2d",
   "metadata": {},
   "outputs": [
    {
     "name": "stdout",
     "output_type": "stream",
     "text": [
      "Wales 1 - 1 Switzerland\n"
     ]
    }
   ],
   "source": [
    "predict_game_result('Wales', 'Switzerland')"
   ]
  },
  {
   "cell_type": "code",
   "execution_count": 21,
   "id": "497c6cae-1c55-4de1-94e2-4743cd378654",
   "metadata": {},
   "outputs": [
    {
     "name": "stdout",
     "output_type": "stream",
     "text": [
      "Denmark 2 - 1 Finland\n"
     ]
    }
   ],
   "source": [
    "predict_game_result('Denmark', 'Finland')"
   ]
  },
  {
   "cell_type": "code",
   "execution_count": 22,
   "id": "8f46970b-04dc-4371-83e8-ed5fef71ecbb",
   "metadata": {},
   "outputs": [
    {
     "name": "stdout",
     "output_type": "stream",
     "text": [
      "Belgium 4 - 1 Russia\n"
     ]
    }
   ],
   "source": [
    "predict_game_result('Belgium', 'Russia')"
   ]
  },
  {
   "cell_type": "code",
   "execution_count": 23,
   "id": "0b58b8d0-cf4c-4ea5-aa2b-68b224841697",
   "metadata": {},
   "outputs": [
    {
     "name": "stdout",
     "output_type": "stream",
     "text": [
      "England 3 - 1 Croatia\n"
     ]
    }
   ],
   "source": [
    "predict_game_result('England', 'Croatia')"
   ]
  },
  {
   "cell_type": "code",
   "execution_count": 24,
   "id": "fff57431-8628-48db-996e-1db7d0c58d2b",
   "metadata": {},
   "outputs": [
    {
     "name": "stdout",
     "output_type": "stream",
     "text": [
      "Austria 2 - 1 North Macedonia\n"
     ]
    }
   ],
   "source": [
    "predict_game_result('Austria', 'North Macedonia')"
   ]
  },
  {
   "cell_type": "code",
   "execution_count": 25,
   "id": "0c33d20c-8442-4011-aec7-064104c00c82",
   "metadata": {},
   "outputs": [
    {
     "name": "stdout",
     "output_type": "stream",
     "text": [
      "Netherlands 3 - 1 Ukraine\n"
     ]
    }
   ],
   "source": [
    "predict_game_result('Netherlands', 'Ukraine')"
   ]
  },
  {
   "cell_type": "code",
   "execution_count": 26,
   "id": "30dbb226-633f-47e1-bdca-8271e526b370",
   "metadata": {},
   "outputs": [
    {
     "name": "stdout",
     "output_type": "stream",
     "text": [
      "Scotland 1 - 1 Czech Republic\n"
     ]
    }
   ],
   "source": [
    "predict_game_result('Scotland', 'Czech Republic')"
   ]
  },
  {
   "cell_type": "code",
   "execution_count": 27,
   "id": "53bbbc0a-b331-4097-a972-275be64c96d0",
   "metadata": {},
   "outputs": [
    {
     "name": "stdout",
     "output_type": "stream",
     "text": [
      "Poland 2 - 1 Slovakia\n"
     ]
    }
   ],
   "source": [
    "predict_game_result('Poland', 'Slovakia')"
   ]
  },
  {
   "cell_type": "code",
   "execution_count": 28,
   "id": "3681bc49-404d-4ffd-80e8-98abdcd1fcb3",
   "metadata": {},
   "outputs": [
    {
     "name": "stdout",
     "output_type": "stream",
     "text": [
      "Spain 2 - 1 Sweden\n"
     ]
    }
   ],
   "source": [
    "predict_game_result('Spain', 'Sweden')"
   ]
  },
  {
   "cell_type": "code",
   "execution_count": 29,
   "id": "3a2cab5e-9a25-4033-b6e9-a7e3eff8243d",
   "metadata": {},
   "outputs": [
    {
     "name": "stdout",
     "output_type": "stream",
     "text": [
      "Hungary 1 - 2 Portugal\n"
     ]
    }
   ],
   "source": [
    "predict_game_result('Hungary', 'Portugal')"
   ]
  },
  {
   "cell_type": "code",
   "execution_count": 30,
   "id": "dbc43a75-3fd1-4fa5-940e-d1ddd225f559",
   "metadata": {},
   "outputs": [
    {
     "name": "stdout",
     "output_type": "stream",
     "text": [
      "France 2 - 1 Germany\n"
     ]
    }
   ],
   "source": [
    "predict_game_result('France', 'Germany')"
   ]
  },
  {
   "cell_type": "code",
   "execution_count": 31,
   "id": "18ae577a-6937-4baf-8f48-f566823d2ea3",
   "metadata": {},
   "outputs": [
    {
     "name": "stdout",
     "output_type": "stream",
     "text": [
      "Finland 1 - 2 Russia\n"
     ]
    }
   ],
   "source": [
    "predict_game_result('Finland', 'Russia')"
   ]
  },
  {
   "cell_type": "code",
   "execution_count": 32,
   "id": "fc083b3c-9a74-4845-b145-01d3d4ae3562",
   "metadata": {},
   "outputs": [
    {
     "name": "stdout",
     "output_type": "stream",
     "text": [
      "Turkey 1 - 1 Wales\n"
     ]
    }
   ],
   "source": [
    "predict_game_result('Turkey', 'Wales')"
   ]
  },
  {
   "cell_type": "code",
   "execution_count": 33,
   "id": "37887de8-9e4e-404c-85bc-0d06147f8f36",
   "metadata": {},
   "outputs": [
    {
     "name": "stdout",
     "output_type": "stream",
     "text": [
      "Italy 2 - 0 Switzerland\n"
     ]
    }
   ],
   "source": [
    "predict_game_result('Italy', 'Switzerland')"
   ]
  },
  {
   "cell_type": "code",
   "execution_count": 34,
   "id": "8f9de552-58d1-4c16-b04c-cc8662db3048",
   "metadata": {},
   "outputs": [
    {
     "name": "stdout",
     "output_type": "stream",
     "text": [
      "Ukraine 2 - 1 North Macedonia\n"
     ]
    }
   ],
   "source": [
    "predict_game_result('Ukraine', 'North Macedonia')"
   ]
  },
  {
   "cell_type": "code",
   "execution_count": 35,
   "id": "7c6695ad-52f1-45c4-bea2-b54c227cebb0",
   "metadata": {},
   "outputs": [
    {
     "name": "stdout",
     "output_type": "stream",
     "text": [
      "Denmark 1 - 1 Belgium\n"
     ]
    }
   ],
   "source": [
    "predict_game_result('Denmark', 'Belgium')"
   ]
  },
  {
   "cell_type": "code",
   "execution_count": 36,
   "id": "defeab28-82ee-4f21-9a77-ef7e18794a96",
   "metadata": {},
   "outputs": [
    {
     "name": "stdout",
     "output_type": "stream",
     "text": [
      "Netherlands 2 - 1 Austria\n"
     ]
    }
   ],
   "source": [
    "predict_game_result('Netherlands', 'Austria')"
   ]
  },
  {
   "cell_type": "code",
   "execution_count": 37,
   "id": "28f4829b-1173-4b6b-8364-56e9c8499d89",
   "metadata": {},
   "outputs": [
    {
     "name": "stdout",
     "output_type": "stream",
     "text": [
      "Sweden 2 - 1 Slovakia\n"
     ]
    }
   ],
   "source": [
    "predict_game_result('Sweden', 'Slovakia')"
   ]
  },
  {
   "cell_type": "code",
   "execution_count": 38,
   "id": "b9b14e60-d18e-4f25-9958-3bb6168b9466",
   "metadata": {},
   "outputs": [
    {
     "name": "stdout",
     "output_type": "stream",
     "text": [
      "Croatia 2 - 1 Czech Republic\n"
     ]
    }
   ],
   "source": [
    "predict_game_result('Croatia', 'Czech Republic')"
   ]
  },
  {
   "cell_type": "code",
   "execution_count": 39,
   "id": "2ae7154f-06f1-4763-a735-b9aca1dfc942",
   "metadata": {},
   "outputs": [
    {
     "name": "stdout",
     "output_type": "stream",
     "text": [
      "England 4 - 1 Scotland\n"
     ]
    }
   ],
   "source": [
    "predict_game_result('England', 'Scotland')"
   ]
  },
  {
   "cell_type": "code",
   "execution_count": 40,
   "id": "fae1616a-bb59-4390-899f-02552b5acf7f",
   "metadata": {},
   "outputs": [
    {
     "name": "stdout",
     "output_type": "stream",
     "text": [
      "Hungary 1 - 2 France\n"
     ]
    }
   ],
   "source": [
    "predict_game_result('Hungary', 'France')"
   ]
  },
  {
   "cell_type": "code",
   "execution_count": 41,
   "id": "398e1616-1bdb-4f6b-ba4c-b5a2c1ea791f",
   "metadata": {},
   "outputs": [
    {
     "name": "stdout",
     "output_type": "stream",
     "text": [
      "Portugal 3 - 1 Germany\n"
     ]
    }
   ],
   "source": [
    "predict_game_result('Portugal', 'Germany')"
   ]
  },
  {
   "cell_type": "code",
   "execution_count": 42,
   "id": "b63a53f8-b14c-466e-b84b-9fd151acf008",
   "metadata": {},
   "outputs": [
    {
     "name": "stdout",
     "output_type": "stream",
     "text": [
      "Spain 2 - 1 Poland\n"
     ]
    }
   ],
   "source": [
    "predict_game_result('Spain', 'Poland')"
   ]
  },
  {
   "cell_type": "code",
   "execution_count": 43,
   "id": "40cc3541-e223-4844-81f1-cf069c5ee3e0",
   "metadata": {},
   "outputs": [
    {
     "name": "stdout",
     "output_type": "stream",
     "text": [
      "Italy 2 - 0 Wales\n"
     ]
    }
   ],
   "source": [
    "predict_game_result('Italy', 'Wales')"
   ]
  },
  {
   "cell_type": "code",
   "execution_count": 44,
   "id": "3397b440-3a3a-40ba-afe6-e2deee359b36",
   "metadata": {},
   "outputs": [
    {
     "name": "stdout",
     "output_type": "stream",
     "text": [
      "Switzerland 2 - 1 Turkey\n"
     ]
    }
   ],
   "source": [
    "predict_game_result('Switzerland', 'Turkey')"
   ]
  },
  {
   "cell_type": "code",
   "execution_count": 45,
   "id": "bb688ac6-9072-4f1e-b2ff-68e1a4fff98c",
   "metadata": {},
   "outputs": [
    {
     "name": "stdout",
     "output_type": "stream",
     "text": [
      "Ukraine 1 - 1 Austria\n"
     ]
    }
   ],
   "source": [
    "predict_game_result('Ukraine', 'Austria')"
   ]
  },
  {
   "cell_type": "code",
   "execution_count": 46,
   "id": "5fbbf51a-96f7-4703-8321-a3824e0f6f9e",
   "metadata": {},
   "outputs": [
    {
     "name": "stdout",
     "output_type": "stream",
     "text": [
      "North Macedonia 1 - 2 Netherlands\n"
     ]
    }
   ],
   "source": [
    "predict_game_result('North Macedonia', 'Netherlands')"
   ]
  },
  {
   "cell_type": "code",
   "execution_count": 47,
   "id": "0ad1adab-fdbb-45f6-8faa-deb27a101fad",
   "metadata": {},
   "outputs": [
    {
     "name": "stdout",
     "output_type": "stream",
     "text": [
      "Finland 1 - 2 Belgium\n"
     ]
    }
   ],
   "source": [
    "predict_game_result('Finland', 'Belgium')"
   ]
  },
  {
   "cell_type": "code",
   "execution_count": 48,
   "id": "9ae9d25a-2625-4115-82e7-15720f52e511",
   "metadata": {},
   "outputs": [
    {
     "name": "stdout",
     "output_type": "stream",
     "text": [
      "Russia 1 - 2 Denmark\n"
     ]
    }
   ],
   "source": [
    "predict_game_result('Russia', 'Denmark')"
   ]
  },
  {
   "cell_type": "code",
   "execution_count": 49,
   "id": "de8c2eec-60e8-4e10-af94-7edba5a47d3f",
   "metadata": {},
   "outputs": [
    {
     "name": "stdout",
     "output_type": "stream",
     "text": [
      "Czech Republic 1 - 2 England\n"
     ]
    }
   ],
   "source": [
    "predict_game_result('Czech Republic', 'England')"
   ]
  },
  {
   "cell_type": "code",
   "execution_count": 50,
   "id": "5dc62003-bc3d-4aaa-89c3-44112381d92c",
   "metadata": {},
   "outputs": [
    {
     "name": "stdout",
     "output_type": "stream",
     "text": [
      "Croatia 3 - 1 Scotland\n"
     ]
    }
   ],
   "source": [
    "predict_game_result('Croatia', 'Scotland')"
   ]
  },
  {
   "cell_type": "code",
   "execution_count": 51,
   "id": "0ae40460-a52b-4a70-a582-5e7e5e8b0fd9",
   "metadata": {},
   "outputs": [
    {
     "name": "stdout",
     "output_type": "stream",
     "text": [
      "Sweden 1 - 1 Poland\n"
     ]
    }
   ],
   "source": [
    "predict_game_result('Sweden', 'Poland')"
   ]
  },
  {
   "cell_type": "code",
   "execution_count": 52,
   "id": "81d9667e-dca5-4dd1-a48e-83c8c94fcf64",
   "metadata": {},
   "outputs": [
    {
     "name": "stdout",
     "output_type": "stream",
     "text": [
      "Slovakia 1 - 2 Spain\n"
     ]
    }
   ],
   "source": [
    "predict_game_result('Slovakia', 'Spain')"
   ]
  },
  {
   "cell_type": "code",
   "execution_count": 53,
   "id": "0da9d182-6946-4393-ac04-c6f37fdebe95",
   "metadata": {},
   "outputs": [
    {
     "name": "stdout",
     "output_type": "stream",
     "text": [
      "Germany 2 - 1 Hungary\n"
     ]
    }
   ],
   "source": [
    "predict_game_result('Germany', 'Hungary')"
   ]
  },
  {
   "cell_type": "code",
   "execution_count": 54,
   "id": "129b5d85-239a-4db5-8f5b-127b1aa88cff",
   "metadata": {},
   "outputs": [
    {
     "name": "stdout",
     "output_type": "stream",
     "text": [
      "Portugal 2 - 1 France\n"
     ]
    }
   ],
   "source": [
    "predict_game_result('Portugal', 'France')"
   ]
  },
  {
   "cell_type": "markdown",
   "id": "889e2dc6-2405-46d6-9fec-636bff35f5a8",
   "metadata": {},
   "source": [
    "Round of 16"
   ]
  },
  {
   "cell_type": "code",
   "execution_count": 110,
   "id": "9b60d864-fc57-4eb1-bf47-ce0fa35f756d",
   "metadata": {},
   "outputs": [
    {
     "name": "stdout",
     "output_type": "stream",
     "text": [
      "Portugal 2 - 1 Russia\n"
     ]
    }
   ],
   "source": [
    "predict_game_result('Portugal', 'Russia')"
   ]
  },
  {
   "cell_type": "code",
   "execution_count": 109,
   "id": "0eba1472-f443-4647-a0a3-1f4a400946a7",
   "metadata": {},
   "outputs": [
    {
     "name": "stdout",
     "output_type": "stream",
     "text": [
      "Croatia 1 - 2 Poland\n"
     ]
    }
   ],
   "source": [
    "predict_game_result('Croatia', 'Poland')"
   ]
  },
  {
   "cell_type": "code",
   "execution_count": 108,
   "id": "ccaeb18e-bcc0-4147-84cd-78ce75a11d49",
   "metadata": {},
   "outputs": [
    {
     "name": "stdout",
     "output_type": "stream",
     "text": [
      "Italy 2 - 0 Austria\n"
     ]
    }
   ],
   "source": [
    "predict_game_result('Italy', 'Austria')"
   ]
  },
  {
   "cell_type": "code",
   "execution_count": 107,
   "id": "e81d1ebb-de9e-4c8e-a0af-b02aadc10529",
   "metadata": {},
   "outputs": [
    {
     "name": "stdout",
     "output_type": "stream",
     "text": [
      "Belgium 3 - 1 Germany\n"
     ]
    }
   ],
   "source": [
    "predict_game_result('Belgium', 'Germany')"
   ]
  },
  {
   "cell_type": "code",
   "execution_count": 106,
   "id": "d6c53165-40c9-4e37-896e-c7bf4a2d40e6",
   "metadata": {},
   "outputs": [
    {
     "name": "stdout",
     "output_type": "stream",
     "text": [
      "Netherlands 2 - 1 Sweden\n"
     ]
    }
   ],
   "source": [
    "predict_game_result('Netherlands', 'Sweden')"
   ]
  },
  {
   "cell_type": "code",
   "execution_count": 105,
   "id": "ef776dc0-7a4c-4f64-bcb8-e5e5b0cf3277",
   "metadata": {},
   "outputs": [
    {
     "name": "stdout",
     "output_type": "stream",
     "text": [
      "Switzerland 1 - 2 Denmark\n",
      "Switzerland: 1\n",
      "Denmark: 2\n"
     ]
    }
   ],
   "source": [
    "predict_game_result('Switzerland', 'Denmark', more=True)"
   ]
  },
  {
   "cell_type": "code",
   "execution_count": 111,
   "id": "9da13ceb-e413-400a-bc94-a5d9284633a3",
   "metadata": {},
   "outputs": [
    {
     "name": "stdout",
     "output_type": "stream",
     "text": [
      "Spain 2 - 1 Ukraine\n"
     ]
    }
   ],
   "source": [
    "predict_game_result('Spain', 'Ukraine')"
   ]
  },
  {
   "cell_type": "code",
   "execution_count": 112,
   "id": "62f098ac-684b-42e4-a162-2badf4d3b405",
   "metadata": {},
   "outputs": [
    {
     "name": "stdout",
     "output_type": "stream",
     "text": [
      "England 2 - 1 France\n"
     ]
    }
   ],
   "source": [
    "predict_game_result('England', 'France')"
   ]
  },
  {
   "cell_type": "markdown",
   "id": "537a6d8f-2a19-4bab-b153-5ecc63167e06",
   "metadata": {},
   "source": [
    "Quarterfinals"
   ]
  },
  {
   "cell_type": "code",
   "execution_count": 113,
   "id": "c621ff15-f244-4321-b4f9-95eb58a51f33",
   "metadata": {},
   "outputs": [
    {
     "name": "stdout",
     "output_type": "stream",
     "text": [
      "Portugal 2 - 1 Croatia\n"
     ]
    }
   ],
   "source": [
    "predict_game_result('Portugal', 'Croatia')"
   ]
  },
  {
   "cell_type": "code",
   "execution_count": 121,
   "id": "df515b2f-63ac-4fbb-9ea6-c52976f53a54",
   "metadata": {},
   "outputs": [
    {
     "name": "stdout",
     "output_type": "stream",
     "text": [
      "Italy 1 - 1 Belgium\n",
      "Italy: 1    1.117723\n",
      "dtype: float64\n",
      "Belgium: 1    0.787529\n",
      "dtype: float64\n",
      "Italy wins probability of:0.4319464644526446\n",
      "Draw is probability of:0.31155161918878616\n",
      "Belgium wins probability of:0.9203865510843819\n"
     ]
    }
   ],
   "source": [
    "predict_game_result('Italy', 'Belgium', more=True)"
   ]
  },
  {
   "cell_type": "code",
   "execution_count": 123,
   "id": "b868f633-9010-46c2-8ba8-f30e5e6f40e8",
   "metadata": {},
   "outputs": [
    {
     "name": "stdout",
     "output_type": "stream",
     "text": [
      "Netherlands 1 - 1 Denmark\n",
      "Netherlands: 1    1.24171\n",
      "dtype: float64\n",
      "Denmark: 1    1.308281\n",
      "dtype: float64\n",
      "Netherlands wins probability of:0.3508990380898434\n",
      "Draw is probability of:0.2667496334676036\n",
      "Denmark wins probability of:0.8285446151373641\n"
     ]
    }
   ],
   "source": [
    "predict_game_result('Netherlands', 'Denmark', more=True)"
   ]
  },
  {
   "cell_type": "code",
   "execution_count": 117,
   "id": "0709e4af-977b-4c81-b5f9-c1c02e528a3b",
   "metadata": {},
   "outputs": [
    {
     "name": "stdout",
     "output_type": "stream",
     "text": [
      "Spain 2 - 1 England\n"
     ]
    }
   ],
   "source": [
    "predict_game_result('Spain', 'England')"
   ]
  }
 ],
 "metadata": {
  "kernelspec": {
   "display_name": "Python 3",
   "language": "python",
   "name": "python3"
  },
  "language_info": {
   "codemirror_mode": {
    "name": "ipython",
    "version": 3
   },
   "file_extension": ".py",
   "mimetype": "text/x-python",
   "name": "python",
   "nbconvert_exporter": "python",
   "pygments_lexer": "ipython3",
   "version": "3.9.4"
  }
 },
 "nbformat": 4,
 "nbformat_minor": 5
}
